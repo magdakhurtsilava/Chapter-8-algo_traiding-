{
  "nbformat": 4,
  "nbformat_minor": 0,
  "metadata": {
    "colab": {
      "name": "Chapter 8",
      "provenance": [],
      "authorship_tag": "ABX9TyMPKDMCkhNA7f3CZubcYi+l",
      "include_colab_link": true
    },
    "kernelspec": {
      "name": "python3",
      "display_name": "Python 3"
    },
    "language_info": {
      "name": "python"
    }
  },
  "cells": [
    {
      "cell_type": "markdown",
      "metadata": {
        "id": "view-in-github",
        "colab_type": "text"
      },
      "source": [
        "<a href=\"https://colab.research.google.com/github/magdakhurtsilava/algo_traiding/blob/main/Chapter_8.ipynb\" target=\"_parent\"><img src=\"https://colab.research.google.com/assets/colab-badge.svg\" alt=\"Open In Colab\"/></a>"
      ]
    },
    {
      "cell_type": "code",
      "execution_count": 2,
      "metadata": {
        "id": "UwHcuWhq3C5S"
      },
      "outputs": [],
      "source": [
        "def greet_user():\n",
        "    \"\"\"greeting.\"\"\"\n",
        "    print(\"Hello, how are you dear?\")"
      ]
    },
    {
      "cell_type": "code",
      "source": [
        "greet_user()"
      ],
      "metadata": {
        "colab": {
          "base_uri": "https://localhost:8080/"
        },
        "id": "an1KdMCK3Ssp",
        "outputId": "99c22535-d2ef-4162-dd5f-9cb4d3ebe5d2"
      },
      "execution_count": 3,
      "outputs": [
        {
          "output_type": "stream",
          "name": "stdout",
          "text": [
            "Hello, how are you dear?\n"
          ]
        }
      ]
    },
    {
      "cell_type": "code",
      "source": [
        "\n",
        "def greet_user(username):\n",
        "    \"\"\"simple greeting\"\"\"\n",
        "    print(\"Hello \" + username + \", how are you doing today?\")\n",
        "greet_user(\"diana\") "
      ],
      "metadata": {
        "colab": {
          "base_uri": "https://localhost:8080/"
        },
        "id": "eZEK56UO3XpO",
        "outputId": "89dfcf90-9258-4c4b-cadf-055a48df08d6"
      },
      "execution_count": 4,
      "outputs": [
        {
          "output_type": "stream",
          "name": "stdout",
          "text": [
            "Hello diana, how are you doing today?\n"
          ]
        }
      ]
    },
    {
      "cell_type": "code",
      "source": [
        "\n",
        "def describe_house(size,type):\n",
        "    \"\"\"House description.\"\"\"\n",
        "    print(\"\\nSize of this house is \" + size + \".\")\n",
        "    print(\"This is a \" + type + \" house!\" )\n",
        "describe_house(str(120) + \" m2\", \"luxury\")\n",
        "describe_house(str(100) + \" m2\" , \"medium\")"
      ],
      "metadata": {
        "colab": {
          "base_uri": "https://localhost:8080/"
        },
        "id": "b4CsXsZR3ay2",
        "outputId": "aaaa005d-183d-4feb-9349-46bbd515b32e"
      },
      "execution_count": 5,
      "outputs": [
        {
          "output_type": "stream",
          "name": "stdout",
          "text": [
            "\n",
            "Size of this house is 120 m2.\n",
            "This is a luxury house!\n",
            "\n",
            "Size of this house is 100 m2.\n",
            "This is a medium house!\n"
          ]
        }
      ]
    },
    {
      "cell_type": "code",
      "source": [
        "def describe_house(size,type):\n",
        "    \"\"\"Description of the house.\"\"\"\n",
        "    print(\"\\nArea of the house is \" + size + \".\")\n",
        "    print(\"This is a \" + type + \" house.\")\n",
        "describe_house(type=\"luxury\",size=\"120 m2\")\n",
        "describe_house(size=(\"100 m2\"), type=\"contemporary\")"
      ],
      "metadata": {
        "colab": {
          "base_uri": "https://localhost:8080/"
        },
        "id": "Hzdv3S7U3eqT",
        "outputId": "b4f48e8f-899f-4dc1-e2cd-4a4327fa4bd3"
      },
      "execution_count": 6,
      "outputs": [
        {
          "output_type": "stream",
          "name": "stdout",
          "text": [
            "\n",
            "Area of the house is 120 m2.\n",
            "This is a luxury house.\n",
            "\n",
            "Area of the house is 100 m2.\n",
            "This is a contemporary house.\n"
          ]
        }
      ]
    },
    {
      "cell_type": "code",
      "source": [
        "def car_brands(brand,price=\"45000$\"):\n",
        "    print(\"\\nI have a \" + brand + \".\")\n",
        "    print(\"Its price is \" + price + \".\")\n",
        "car_brands(\"Mclaren\",\"100000$\")\n",
        "car_brands(\"Mersedes benz - S class\",)"
      ],
      "metadata": {
        "colab": {
          "base_uri": "https://localhost:8080/"
        },
        "id": "Re6GosMS3jYS",
        "outputId": "99d765fd-418c-4cd4-c1f6-c778a0da6e02"
      },
      "execution_count": 7,
      "outputs": [
        {
          "output_type": "stream",
          "name": "stdout",
          "text": [
            "\n",
            "I have a Mclaren.\n",
            "Its price is 100000$.\n",
            "\n",
            "I have a Mersedes benz - S class.\n",
            "Its price is 45000$.\n"
          ]
        }
      ]
    },
    {
      "cell_type": "code",
      "source": [
        "def car_brands(brand,price=None):\n",
        "    print(\"\\nThis is \" + brand + \"!\")\n",
        "    if price:\n",
        "        print(\"Its value is \" + price + \".\")\n",
        "car_brands(\"BMW\",\"10000 $\")\n",
        "car_brands(\"Bentley\")"
      ],
      "metadata": {
        "colab": {
          "base_uri": "https://localhost:8080/"
        },
        "id": "kRsv0GI43nFl",
        "outputId": "29700118-c60e-4e01-ad12-ae3dd7ac6f60"
      },
      "execution_count": 8,
      "outputs": [
        {
          "output_type": "stream",
          "name": "stdout",
          "text": [
            "\n",
            "This is BMW!\n",
            "Its value is 10000 $.\n",
            "\n",
            "This is Bentley!\n"
          ]
        }
      ]
    },
    {
      "cell_type": "code",
      "source": [
        "def get_full_name(first,last):\n",
        "    \"\"\"Return formated fullname\"\"\"\n",
        "    full_name = first + \" \" + last +  \".\"\n",
        "    return full_name.title()"
      ],
      "metadata": {
        "id": "6RQS5qKr3q6l"
      },
      "execution_count": 9,
      "outputs": []
    },
    {
      "cell_type": "code",
      "source": [
        "musician = get_full_name(\"bob\",\"marley\")\n",
        "print(musician)"
      ],
      "metadata": {
        "colab": {
          "base_uri": "https://localhost:8080/"
        },
        "id": "BLkpvb6q3wY6",
        "outputId": "99e47f9c-97df-4901-9a7e-57746e4ca496"
      },
      "execution_count": 10,
      "outputs": [
        {
          "output_type": "stream",
          "name": "stdout",
          "text": [
            "Bob Marley.\n"
          ]
        }
      ]
    },
    {
      "cell_type": "code",
      "source": [
        "def writer(first,last):\n",
        "    \"\"\"Writer's full name\"\"\"\n",
        "    writer_fn = {\"first\": first , \"last\": last}\n",
        "    return writer_fn\n",
        "famous_writer = writer(\"Steven\",\"King\")\n",
        "print(famous_writer)"
      ],
      "metadata": {
        "colab": {
          "base_uri": "https://localhost:8080/"
        },
        "id": "NMbt4uv930hk",
        "outputId": "73386532-47f2-4104-cad3-300c68ebd657"
      },
      "execution_count": 11,
      "outputs": [
        {
          "output_type": "stream",
          "name": "stdout",
          "text": [
            "{'first': 'Steven', 'last': 'King'}\n"
          ]
        }
      ]
    },
    {
      "cell_type": "code",
      "source": [
        "def famous_footbalers(names):\n",
        "    \"\"\"A short list of famous footbalers\n",
        "    \"\"\"\n",
        "    for name in names:\n",
        "        greet = \"Hello \" + \"its \" + name + \", glad to see you there !\"\n",
        "        print(greet)"
      ],
      "metadata": {
        "id": "cq3815PJ4IFa"
      },
      "execution_count": 14,
      "outputs": []
    },
    {
      "cell_type": "code",
      "source": [
        "lst_of_footbalers = [\"Muller\",\"Drogba\",\"Pogba\"]\n",
        "famous_footbalers(lst_of_footbalers)   "
      ],
      "metadata": {
        "colab": {
          "base_uri": "https://localhost:8080/"
        },
        "id": "XdQyvnN34JmF",
        "outputId": "97393602-3f03-491a-d2f9-6bd3482faa9f"
      },
      "execution_count": 15,
      "outputs": [
        {
          "output_type": "stream",
          "name": "stdout",
          "text": [
            "Hello its Muller, glad to see you there !\n",
            "Hello its Drogba, glad to see you there !\n",
            "Hello its Pogba, glad to see you there !\n"
          ]
        }
      ]
    },
    {
      "cell_type": "code",
      "source": [
        "# collecting arbitrary number of arguments\n",
        "def type_of_houses(type, *rooms):\n",
        "    \"\"\"building a house\"\"\"\n",
        "    print(\"\\nI want to build \" + type + \" style house.\")\n",
        "    print(\"Number of rooms:\")\n",
        "    for room in rooms:\n",
        "        print(\"-\" + room + \"room\")"
      ],
      "metadata": {
        "id": "swHDblin4M00"
      },
      "execution_count": 16,
      "outputs": []
    },
    {
      "cell_type": "code",
      "source": [
        "type_of_houses(\"Contemporary\",\"1\",\"2\",\"3\")\n",
        "type_of_houses(\"cottage\", str(1),str(2))"
      ],
      "metadata": {
        "colab": {
          "base_uri": "https://localhost:8080/"
        },
        "id": "Fk05UkJL4RPJ",
        "outputId": "c278c69e-29fb-41c2-9442-30534208421e"
      },
      "execution_count": 17,
      "outputs": [
        {
          "output_type": "stream",
          "name": "stdout",
          "text": [
            "\n",
            "I want to build Contemporary style house.\n",
            "Number of rooms:\n",
            "-1room\n",
            "-2room\n",
            "-3room\n",
            "\n",
            "I want to build cottage style house.\n",
            "Number of rooms:\n",
            "-1room\n",
            "-2room\n"
          ]
        }
      ]
    }
  ]
}